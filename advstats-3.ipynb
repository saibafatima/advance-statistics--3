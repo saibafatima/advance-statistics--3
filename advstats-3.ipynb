{
 "cells": [
  {
   "cell_type": "code",
   "execution_count": 1,
   "id": "091ab66d-ca8c-4d1d-967c-8ed67f095773",
   "metadata": {},
   "outputs": [
    {
     "ename": "SyntaxError",
     "evalue": "invalid syntax (276149925.py, line 1)",
     "output_type": "error",
     "traceback": [
      "\u001b[0;36m  Cell \u001b[0;32mIn[1], line 1\u001b[0;36m\u001b[0m\n\u001b[0;31m    Q1: What is Estimation Statistics? Explain point estimate and interval estimate.\u001b[0m\n\u001b[0m                           ^\u001b[0m\n\u001b[0;31mSyntaxError\u001b[0m\u001b[0;31m:\u001b[0m invalid syntax\n"
     ]
    }
   ],
   "source": [
    "Q1: What is Estimation Statistics? Explain point estimate and interval estimate.\n",
    "\n",
    "Estimation statistics is a branch of statistics that deals with making inferences about a population parameter based on a sample of data. There are two types of estimates: point estimates and interval estimates.\n",
    "\n",
    "Point Estimate: A point estimate is a single value that is used to estimate a population parameter. It is a \"best guess\" of the true value of the parameter.\n",
    "\n",
    "Interval Estimate: An interval estimate is a range of values within which the true value of the population parameter is likely to lie. It provides a margin of error around the point estimate."
   ]
  },
  {
   "cell_type": "code",
   "execution_count": 2,
   "id": "e8c43742-0c65-4804-aee7-f1e92fae5575",
   "metadata": {},
   "outputs": [],
   "source": [
    "#Q2: Write a Python function to estimate the population mean using a sample mean and standard deviation.\n",
    "\n",
    "import math\n",
    "\n",
    "def estimate_population_mean(sample_mean, sample_std, sample_size):\n",
    "    population_mean = sample_mean\n",
    "    margin_of_error = (sample_std / math.sqrt(sample_size)) * 1.96\n",
    "    return population_mean, margin_of_error"
   ]
  },
  {
   "cell_type": "code",
   "execution_count": 3,
   "id": "10c32281-82c5-4237-9e82-888068cbce92",
   "metadata": {},
   "outputs": [
    {
     "ename": "SyntaxError",
     "evalue": "invalid syntax (1227328948.py, line 1)",
     "output_type": "error",
     "traceback": [
      "\u001b[0;36m  Cell \u001b[0;32mIn[3], line 1\u001b[0;36m\u001b[0m\n\u001b[0;31m    Q3: What is Hypothesis testing? Why is it used? State the importance of Hypothesis testing.\u001b[0m\n\u001b[0m                           ^\u001b[0m\n\u001b[0;31mSyntaxError\u001b[0m\u001b[0;31m:\u001b[0m invalid syntax\n"
     ]
    }
   ],
   "source": [
    "Q3: What is Hypothesis testing? Why is it used? State the importance of Hypothesis testing.\n",
    "\n",
    "Hypothesis testing is a statistical technique used to determine whether a hypothesis about a population parameter is true or not. It involves testing a null hypothesis (H0) against an alternative hypothesis (H1) based on a sample of data.\n",
    "\n",
    "Hypothesis testing is used to:\n",
    "\n",
    "Make informed decisions based on data\n",
    "Identify significant relationships between variables\n",
    "Test the effectiveness of a treatment or intervention\n",
    "The importance of hypothesis testing lies in its ability to:\n",
    "\n",
    "Provide a framework for making decisions based on data\n",
    "Help researchers and practitioners identify significant findings\n",
    "Facilitate the development of new theories and models"
   ]
  },
  {
   "cell_type": "code",
   "execution_count": 4,
   "id": "05392cf7-da70-48b3-94bc-e4114c710fec",
   "metadata": {},
   "outputs": [
    {
     "ename": "SyntaxError",
     "evalue": "invalid character '≤' (U+2264) (288707667.py, line 3)",
     "output_type": "error",
     "traceback": [
      "\u001b[0;36m  Cell \u001b[0;32mIn[4], line 3\u001b[0;36m\u001b[0m\n\u001b[0;31m    H0: μ_male ≤ μ_female (null hypothesis) H1: μ_male > μ_female (alternative hypothesis)\u001b[0m\n\u001b[0m               ^\u001b[0m\n\u001b[0;31mSyntaxError\u001b[0m\u001b[0;31m:\u001b[0m invalid character '≤' (U+2264)\n"
     ]
    }
   ],
   "source": [
    "Q4: Create a hypothesis that states whether the average weight of male college students is greater than the average weight of female college students.\n",
    "\n",
    "H0: μ_male ≤ μ_female (null hypothesis) H1: μ_male > μ_female (alternative hypothesis)"
   ]
  },
  {
   "cell_type": "code",
   "execution_count": 5,
   "id": "c4bd83e6-a435-42ba-b920-e10faf110280",
   "metadata": {},
   "outputs": [],
   "source": [
    "#Q5: Write a Python script to conduct a hypothesis test on the difference between two population means, given a sample from each population.\n",
    "\n",
    "import numpy as np\n",
    "from scipy.stats import ttest_ind\n",
    "\n",
    "def hypothesis_test(sample1, sample2):\n",
    "    t_stat, p_val = ttest_ind(sample1, sample2)\n",
    "    if p_val < 0.05:\n",
    "        print(\"Reject the null hypothesis\")\n",
    "    else:\n",
    "        print(\"Fail to reject the null hypothesis\")"
   ]
  },
  {
   "cell_type": "code",
   "execution_count": 24,
   "id": "1f615eec-25ae-451b-a8a8-191831ef625b",
   "metadata": {},
   "outputs": [
    {
     "name": "stdout",
     "output_type": "stream",
     "text": [
      "t-statistic: 0.8615497903412865\n",
      "p-value: 0.40026735550293835\n",
      "Fail to reject null hypothesis: μ_male = μ_female (no difference)\n"
     ]
    }
   ],
   "source": [
    "#Q6: What is a null and alternative hypothesis? Give some examples.\n",
    "\n",
    "# Hypothesis (H0): A statement of no effect or no difference between groups.\n",
    "\n",
    "#Alternative Hypothesis (H1): A statement of an effect or difference between groups.\n",
    "\n",
    "#Examples:import numpy as np\n",
    "from scipy.stats import ttest_ind\n",
    "\n",
    "# Sample data\n",
    "male_scores = [23, 21, 19, 24, 20, 22, 18, 25, 24, 22]\n",
    "female_scores = [20, 18, 22, 21, 19, 23, 20, 24, 22, 21]\n",
    "\n",
    "# Perform two-sample t-test\n",
    "t_stat, p_val = ttest_ind(male_scores, female_scores)\n",
    "\n",
    "print(\"t-statistic:\", t_stat)\n",
    "print(\"p-value:\", p_val)\n",
    "\n",
    "# Define significance level (alpha)\n",
    "alpha = 0.05\n",
    "\n",
    "# Check if we reject the null hypothesis\n",
    "if p_val < alpha:\n",
    "    print(\"Reject null hypothesis: μ_male ≠ μ_female (some difference)\")\n",
    "else:\n",
    "    print(\"Fail to reject null hypothesis: μ_male = μ_female (no difference)\")\n",
    "\n"
   ]
  },
  {
   "cell_type": "code",
   "execution_count": 7,
   "id": "616e1d3b-41de-48bd-b0bc-181949f4fc5e",
   "metadata": {},
   "outputs": [
    {
     "ename": "SyntaxError",
     "evalue": "invalid syntax (1161578401.py, line 1)",
     "output_type": "error",
     "traceback": [
      "\u001b[0;36m  Cell \u001b[0;32mIn[7], line 1\u001b[0;36m\u001b[0m\n\u001b[0;31m    Q7: Write down the steps involved in hypothesis testing.\u001b[0m\n\u001b[0m              ^\u001b[0m\n\u001b[0;31mSyntaxError\u001b[0m\u001b[0;31m:\u001b[0m invalid syntax\n"
     ]
    }
   ],
   "source": [
    "Q7: Write down the steps involved in hypothesis testing.\n",
    "\n",
    "State the null and alternative hypotheses\n",
    "Choose a significance level (α)\n",
    "Collect a sample of data\n",
    "Calculate the test statistic\n",
    "Determine the p-value\n",
    "Compare the p-value to the significance level (α)\n",
    "Make a decision (reject or fail to reject the null hypothesis)"
   ]
  },
  {
   "cell_type": "code",
   "execution_count": 8,
   "id": "54b5fcb0-8087-4213-ba7d-e3245e8bdb50",
   "metadata": {},
   "outputs": [
    {
     "ename": "SyntaxError",
     "evalue": "invalid syntax (4206456089.py, line 1)",
     "output_type": "error",
     "traceback": [
      "\u001b[0;36m  Cell \u001b[0;32mIn[8], line 1\u001b[0;36m\u001b[0m\n\u001b[0;31m    Q8: Define p-value and explain its significance in hypothesis testing.\u001b[0m\n\u001b[0m               ^\u001b[0m\n\u001b[0;31mSyntaxError\u001b[0m\u001b[0;31m:\u001b[0m invalid syntax\n"
     ]
    }
   ],
   "source": [
    "Q8: Define p-value and explain its significance in hypothesis testing.\n",
    "\n",
    "The p-value is the probability of obtaining a result as extreme or more extreme than the one observed, assuming that the null hypothesis is true.\n",
    "\n",
    "The significance of the p-value lies in its ability to:\n",
    "\n",
    "Provide a measure of the strength of evidence against the null hypothesis\n",
    "Help researchers and practitioners make decisions based on the data\n",
    "Facilitate the interpretation of results in hypothesis testing"
   ]
  },
  {
   "cell_type": "code",
   "execution_count": 9,
   "id": "d360c7b4-aa14-4005-ad07-cc9a034be8d9",
   "metadata": {},
   "outputs": [
    {
     "data": {
      "image/png": "[encoded data removed]",
      "text/plain": [
       "<Figure size 640x480 with 1 Axes>"
      ]
     },
     "metadata": {},
     "output_type": "display_data"
    }
   ],
   "source": [
    "#Q9: Generate a Student's t-distribution plot using Python's matplotlib library, with the degrees of freedom parameter set to 10.\n",
    "\n",
    "import numpy as np\n",
    "import matplotlib.pyplot as plt\n",
    "from scipy.stats import t\n",
    "\n",
    "x = np.linspace(-5, 5, 100)\n",
    "y = t.pdf(x, df=10)\n",
    "\n",
    "plt.plot(x, y)\n",
    "plt.xlabel(\"x\")\n",
    "plt.ylabel(\"Probability Density\")\n",
    "plt.title(\"Student's t-Distribution (df=10)\")\n",
    "plt.show()"
   ]
  },
  {
   "cell_type": "code",
   "execution_count": 11,
   "id": "66940b71-a08d-4786-9f84-41178ca02b5f",
   "metadata": {},
   "outputs": [
    {
     "name": "stdout",
     "output_type": "stream",
     "text": [
      "Sample 1 Mean: 9.836122608044494\n",
      "Sample 2 Mean: 11.603111550765757\n",
      "t-statistic: -2.8581358531487884\n",
      "Degrees of Freedom: 38\n",
      "p-value: 0.008284728455128993\n",
      "Reject the null hypothesis\n"
     ]
    }
   ],
   "source": [
    "#Q10: Write a Python program to calculate the two-sample t-test for independent samples, given two random samples of equal size and a null hypothesis that the population means are equal.\n",
    "\n",
    "import numpy as np\n",
    "from scipy.stats import ttest_ind\n",
    "\n",
    "def two_sample_t_test(sample1, sample2):\n",
    "    # Calculate the sample means and standard deviations\n",
    "    mean1 = np.mean(sample1)\n",
    "    mean2 = np.mean(sample2)\n",
    "    std1 = np.std(sample1)\n",
    "    std2 = np.std(sample2)\n",
    "\n",
    "    # Calculate the pooled standard deviation\n",
    "    pooled_std = np.sqrt(((std1**2 + std2**2) / 2))\n",
    "\n",
    "    # Calculate the t-statistic\n",
    "    t_stat = (mean1 - mean2) / (pooled_std * np.sqrt(2 / len(sample1)))\n",
    "\n",
    "    # Calculate the degrees of freedom\n",
    "    df = len(sample1) + len(sample2) - 2\n",
    "\n",
    "    # Calculate the p-value\n",
    "    p_val = ttest_ind(sample1, sample2)[1]\n",
    "\n",
    "    # Print the results\n",
    "    print(\"Sample 1 Mean:\", mean1)\n",
    "    print(\"Sample 2 Mean:\", mean2)\n",
    "    print(\"t-statistic:\", t_stat)\n",
    "    print(\"Degrees of Freedom:\", df)\n",
    "    print(\"p-value:\", p_val)\n",
    "\n",
    "    # Make a decision based on the p-value\n",
    "    if p_val < 0.05:\n",
    "        print(\"Reject the null hypothesis\")\n",
    "    else:\n",
    "        print(\"Fail to reject the null hypothesis\")\n",
    "\n",
    "# Example usage\n",
    "sample1 = np.random.normal(10, 2, 20)  # Sample 1: mean 10, std dev 2, size 20\n",
    "sample2 = np.random.normal(12, 2, 20)  # Sample 2: mean 12, std dev 2, size 20\n",
    "\n",
    "two_sample_t_test(sample1, sample2)"
   ]
  },
  {
   "cell_type": "code",
   "execution_count": 12,
   "id": "80b28c2a-e3aa-4b22-9d1a-c1c38968c90b",
   "metadata": {},
   "outputs": [
    {
     "ename": "SyntaxError",
     "evalue": "invalid character '’' (U+2019) (2982240022.py, line 1)",
     "output_type": "error",
     "traceback": [
      "\u001b[0;36m  Cell \u001b[0;32mIn[12], line 1\u001b[0;36m\u001b[0m\n\u001b[0;31m    Q11: What is Student’s t distribution? When to use the t-Distribution.\u001b[0m\n\u001b[0m                        ^\u001b[0m\n\u001b[0;31mSyntaxError\u001b[0m\u001b[0;31m:\u001b[0m invalid character '’' (U+2019)\n"
     ]
    }
   ],
   "source": [
    "Q11: What is Student’s t distribution? When to use the t-Distribution.\n",
    "\n",
    "Student's t-distribution: A continuous probability distribution that arises in the problem of estimating the mean of a normally distributed population in situations where the sample size is small and the population standard deviation is unknown.\n",
    "\n",
    "When to use the t-Distribution:\n",
    "\n",
    "When the sample size is small (typically less than 30)\n",
    "When the population standard deviation is unknown\n",
    "When the data follows a normal distribution or is approximately normal\n",
    "In hypothesis testing and confidence interval construction for the population mean"
   ]
  },
  {
   "cell_type": "code",
   "execution_count": 22,
   "id": "e35fb1fc-d0b4-4428-b3e4-8cbf5996ab2c",
   "metadata": {},
   "outputs": [
    {
     "name": "stdout",
     "output_type": "stream",
     "text": [
      "t-statistic: 2.0\n"
     ]
    }
   ],
   "source": [
    "#Q12: What is t-statistic? State the formula for t-statistic.\n",
    "\n",
    "import math\n",
    "\n",
    "# sample mean\n",
    "x_bar = 10\n",
    "\n",
    "# population mean\n",
    "mu = 9\n",
    "\n",
    "# sample standard deviation\n",
    "s = 2\n",
    "\n",
    "# sample size\n",
    "n = 16\n",
    "\n",
    "# calculate t-statistic\n",
    "t_statistic = (x_bar - mu) / (s / math.sqrt(n))\n",
    "\n",
    "print(\"t-statistic:\", t_statistic)"
   ]
  },
  {
   "cell_type": "code",
   "execution_count": 17,
   "id": "2ecd7f4c-538d-4b76-b69a-13b133cfea47",
   "metadata": {},
   "outputs": [
    {
     "name": "stdout",
     "output_type": "stream",
     "text": [
      "95% Confidence Interval: (485.79015724388137, 514.2098427561186)\n"
     ]
    }
   ],
   "source": [
    "#Q13: A coffee shop owner wants to estimate the average daily revenue for their shop. They take a random sample of 50 days and find the sample mean revenue to be $500 with a standard deviation of $50. Estimate the population mean revenue with a 95% confidence interval.\n",
    "\n",
    "import scipy.stats as stats\n",
    "\n",
    "x_bar = 500\n",
    "s = 50\n",
    "n = 50\n",
    "\n",
    "t_critical = stats.t.ppf(0.975, n-1)  # 95% confidence, 49 degrees of freedom\n",
    "margin_of_error = t_critical * (s / n**0.5)\n",
    "confidence_interval = (x_bar - margin_of_error, x_bar + margin_of_error)\n",
    "\n",
    "print(\"95% Confidence Interval:\", confidence_interval)"
   ]
  },
  {
   "cell_type": "code",
   "execution_count": 18,
   "id": "33432fb9-e4a3-46d8-b8ce-ef2c7c271228",
   "metadata": {},
   "outputs": [
    {
     "name": "stdout",
     "output_type": "stream",
     "text": [
      "t-statistic: -6.666666666666667\n",
      "p-value: 7.506144504985108e-10\n",
      "Reject the null hypothesis\n"
     ]
    }
   ],
   "source": [
    "#Q14: A researcher hypothesizes that a new drug will decrease blood pressure by 10 mmHg. They conduct a clinical trial with 100 patients and find that the sample mean decrease in blood pressure is 8 mmHg with a standard deviation of 3 mmHg. Test the hypothesis with a significance level of 0.05.\n",
    "\n",
    "import scipy.stats as stats\n",
    "\n",
    "x_bar = 8\n",
    "mu = 10\n",
    "s = 3\n",
    "n = 100\n",
    "\n",
    "t_statistic = (x_bar - mu) / (s / n**0.5)\n",
    "p_value = stats.t.sf(abs(t_statistic), n-1)\n",
    "\n",
    "print(\"t-statistic:\", t_statistic)\n",
    "print(\"p-value:\", p_value)\n",
    "\n",
    "if p_value < 0.05:\n",
    "    print(\"Reject the null hypothesis\")\n",
    "else:\n",
    "    print(\"Fail to reject the null hypothesis\")"
   ]
  },
  {
   "cell_type": "code",
   "execution_count": 19,
   "id": "f0dc2cc6-57d1-428d-a342-bed0d4feb6dd",
   "metadata": {},
   "outputs": [
    {
     "name": "stdout",
     "output_type": "stream",
     "text": [
      "t-statistic: -2.0000000000000018\n",
      "p-value: 0.02846992496829572\n",
      "Fail to reject the null hypothesis\n"
     ]
    }
   ],
   "source": [
    "#Q15: An electronics company produces a certain type of product with a mean weight of 5 pounds and a standard deviation of 0.5 pounds. A random sample of 25 products is taken, and the sample mean weight is found to be 4.8 pounds. Test the hypothesis that the true mean weight of the products is less than 5 pounds with a significance level of 0.01.\n",
    "\n",
    "import scipy.stats as stats\n",
    "\n",
    "x_bar = 4.8\n",
    "mu = 5\n",
    "s = 0.5\n",
    "n = 25\n",
    "\n",
    "t_statistic = (x_bar - mu) / (s / n**0.5)\n",
    "p_value = stats.t.sf(abs(t_statistic), n-1)\n",
    "\n",
    "print(\"t-statistic:\", t_statistic)\n",
    "print(\"p-value:\", p_value)\n",
    "\n",
    "if p_value < 0.01:\n",
    "    print(\"Reject the null hypothesis\")\n",
    "else:\n",
    "    print(\"Fail to reject the null hypothesis\")"
   ]
  },
  {
   "cell_type": "code",
   "execution_count": 20,
   "id": "afc21dea-d74f-4846-804a-4c79053b8cce",
   "metadata": {},
   "outputs": [
    {
     "name": "stdout",
     "output_type": "stream",
     "text": [
      "t-statistic: 0.13556478423245866\n",
      "p-value: 0.44628292787109936\n",
      "Fail to reject the null hypothesis\n"
     ]
    }
   ],
   "source": [
    "#Q16: Two groups of students are given different study materials to prepare for a test. The first group (n1 = 30) has a mean score of 80 with a standard deviation of 10, and the second group (n2 = 40) has a mean score of 75 with a standard deviation of 8. Test the hypothesis that the population means for the two groups are equal with a significance level of 0.01.\n",
    "\n",
    "\n",
    "import scipy.stats as stats\n",
    "\n",
    "x1_bar = 80\n",
    "s1 = 10\n",
    "n1 = 30\n",
    "\n",
    "x2_bar = 75\n",
    "s2 = 8\n",
    "n2 = 40\n",
    "\n",
    "sp = ((n1 - 1) * s1**2 + (n2 - 1) * s2**2) / (n1 + n2 - 2)\n",
    "sp = sp**0.5\n",
    "\n",
    "t_statistic = (x1_bar - x2_bar) / sp * ((1/n1) + (1/n2))**0.5\n",
    "p_value = stats.t.sf(abs(t_statistic), n1 + n2 - 2)\n",
    "\n",
    "print(\"t-statistic:\", t_statistic)\n",
    "print(\"p-value:\", p_value)\n",
    "\n",
    "if p_value < 0.01:\n",
    "    print(\"Reject the null hypothesis\")\n",
    "else:\n",
    "    print(\"Fail to reject the null hypothesis\")"
   ]
  },
  {
   "cell_type": "code",
   "execution_count": 21,
   "id": "ea89557a-0134-45ab-8cc4-4de9a423d642",
   "metadata": {},
   "outputs": [
    {
     "name": "stdout",
     "output_type": "stream",
     "text": [
      "99% Confidence Interval: (3.4314963358572577, 4.568503664142742)\n"
     ]
    }
   ],
   "source": [
    "#Q17: A marketing company wants to estimate the average number of ads watched by viewers during a TV program. They take a random sample of 50 viewers and find that the sample mean is 4 with a standard deviation of 1.5. Estimate the population mean with a 99% confidence interval.\n",
    "\n",
    "import scipy.stats as stats\n",
    "\n",
    "x_bar = 4\n",
    "s = 1.5\n",
    "n = 50\n",
    "\n",
    "t_critical = stats.t.ppf(0.995, n-1)  # 99% confidence, 49 degrees of freedom\n",
    "margin_of_error = t_critical * (s / n**0.5)\n",
    "confidence_interval = (x_bar - margin_of_error, x_bar + margin_of_error)\n",
    "\n",
    "print(\"99% Confidence Interval:\", confidence_interval)"
   ]
  },
  {
   "cell_type": "code",
   "execution_count": null,
   "id": "7fc9d550-6240-4d7e-81cf-149e2450f218",
   "metadata": {},
   "outputs": [],
   "source": []
  }
 ],
 "metadata": {
  "kernelspec": {
   "display_name": "Python 3 (ipykernel)",
   "language": "python",
   "name": "python3"
  },
  "language_info": {
   "codemirror_mode": {
    "name": "ipython",
    "version": 3
   },
   "file_extension": ".py",
   "mimetype": "text/x-python",
   "name": "python",
   "nbconvert_exporter": "python",
   "pygments_lexer": "ipython3",
   "version": "3.10.8"
  }
 },
 "nbformat": 4,
 "nbformat_minor": 5
}
